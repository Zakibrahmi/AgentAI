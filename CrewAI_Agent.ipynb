{
  "nbformat": 4,
  "nbformat_minor": 0,
  "metadata": {
    "colab": {
      "provenance": [],
      "authorship_tag": "ABX9TyNlezq+ZGuLMcp1g/OXUiob",
      "include_colab_link": true
    },
    "kernelspec": {
      "name": "python3",
      "display_name": "Python 3"
    },
    "language_info": {
      "name": "python"
    }
  },
  "cells": [
    {
      "cell_type": "markdown",
      "metadata": {
        "id": "view-in-github",
        "colab_type": "text"
      },
      "source": [
        "<a href=\"https://colab.research.google.com/github/Zakibrahmi/AgentAI/blob/main/CrewAI_Agent.ipynb\" target=\"_parent\"><img src=\"https://colab.research.google.com/assets/colab-badge.svg\" alt=\"Open In Colab\"/></a>"
      ]
    },
    {
      "cell_type": "markdown",
      "source": [
        "\n",
        "# **CrewAI**\n",
        "CrewAI is a cutting-edge framework for orchestrating autonomous AI agents.\n",
        "\n",
        "In this tutorial we will create a Multi-Agent system to research and write article. The SMA is composed of three agents:\n",
        "1. Planner Agent\n",
        "2. Writer Agent\n",
        "3. Editor Agent\n",
        "\n",
        "\n",
        "Libraries to be installed: crewai , crewai_tools and lanchain"
      ],
      "metadata": {
        "id": "ivqrmClPX11j"
      }
    },
    {
      "cell_type": "code",
      "execution_count": 10,
      "metadata": {
        "colab": {
          "base_uri": "https://localhost:8080/"
        },
        "id": "Vs7qTrELX0zz",
        "outputId": "9b52480e-7daf-4635-a532-2fac85193139"
      },
      "outputs": [
        {
          "output_type": "stream",
          "name": "stdout",
          "text": [
            "Requirement already satisfied: crewai==0.28.8 in /usr/local/lib/python3.11/dist-packages (0.28.8)\n",
            "Requirement already satisfied: crewai_tools==0.1.6 in /usr/local/lib/python3.11/dist-packages (0.1.6)\n",
            "Requirement already satisfied: langchain_community==0.0.29 in /usr/local/lib/python3.11/dist-packages (0.0.29)\n",
            "Requirement already satisfied: appdirs<2.0.0,>=1.4.4 in /usr/local/lib/python3.11/dist-packages (from crewai==0.28.8) (1.4.4)\n",
            "Requirement already satisfied: click<9.0.0,>=8.1.7 in /usr/local/lib/python3.11/dist-packages (from crewai==0.28.8) (8.1.7)\n",
            "Requirement already satisfied: embedchain<0.2.0,>=0.1.98 in /usr/local/lib/python3.11/dist-packages (from crewai==0.28.8) (0.1.113)\n",
            "Requirement already satisfied: instructor<0.6.0,>=0.5.2 in /usr/local/lib/python3.11/dist-packages (from crewai==0.28.8) (0.5.2)\n",
            "Requirement already satisfied: langchain<0.2.0,>=0.1.10 in /usr/local/lib/python3.11/dist-packages (from crewai==0.28.8) (0.1.13)\n",
            "Requirement already satisfied: openai<2.0.0,>=1.13.3 in /usr/local/lib/python3.11/dist-packages (from crewai==0.28.8) (1.61.1)\n",
            "Requirement already satisfied: opentelemetry-api<2.0.0,>=1.22.0 in /usr/local/lib/python3.11/dist-packages (from crewai==0.28.8) (1.30.0)\n",
            "Requirement already satisfied: opentelemetry-exporter-otlp-proto-http<2.0.0,>=1.22.0 in /usr/local/lib/python3.11/dist-packages (from crewai==0.28.8) (1.30.0)\n",
            "Requirement already satisfied: opentelemetry-sdk<2.0.0,>=1.22.0 in /usr/local/lib/python3.11/dist-packages (from crewai==0.28.8) (1.30.0)\n",
            "Requirement already satisfied: pydantic<3.0.0,>=2.4.2 in /usr/local/lib/python3.11/dist-packages (from crewai==0.28.8) (2.10.6)\n",
            "Requirement already satisfied: python-dotenv==1.0.0 in /usr/local/lib/python3.11/dist-packages (from crewai==0.28.8) (1.0.0)\n",
            "Requirement already satisfied: regex<2024.0.0,>=2023.12.25 in /usr/local/lib/python3.11/dist-packages (from crewai==0.28.8) (2023.12.25)\n",
            "Requirement already satisfied: beautifulsoup4<5.0.0,>=4.12.3 in /usr/local/lib/python3.11/dist-packages (from crewai_tools==0.1.6) (4.13.3)\n",
            "Requirement already satisfied: chromadb<0.5.0,>=0.4.22 in /usr/local/lib/python3.11/dist-packages (from crewai_tools==0.1.6) (0.4.24)\n",
            "Requirement already satisfied: lancedb<0.6.0,>=0.5.4 in /usr/local/lib/python3.11/dist-packages (from crewai_tools==0.1.6) (0.5.7)\n",
            "Requirement already satisfied: pyright<2.0.0,>=1.1.350 in /usr/local/lib/python3.11/dist-packages (from crewai_tools==0.1.6) (1.1.396)\n",
            "Requirement already satisfied: pytest<9.0.0,>=8.0.0 in /usr/local/lib/python3.11/dist-packages (from crewai_tools==0.1.6) (8.3.5)\n",
            "Requirement already satisfied: pytube<16.0.0,>=15.0.0 in /usr/local/lib/python3.11/dist-packages (from crewai_tools==0.1.6) (15.0.0)\n",
            "Requirement already satisfied: requests<3.0.0,>=2.31.0 in /usr/local/lib/python3.11/dist-packages (from crewai_tools==0.1.6) (2.32.3)\n",
            "Requirement already satisfied: selenium<5.0.0,>=4.18.1 in /usr/local/lib/python3.11/dist-packages (from crewai_tools==0.1.6) (4.29.0)\n",
            "Requirement already satisfied: PyYAML>=5.3 in /usr/local/lib/python3.11/dist-packages (from langchain_community==0.0.29) (6.0.2)\n",
            "Requirement already satisfied: SQLAlchemy<3,>=1.4 in /usr/local/lib/python3.11/dist-packages (from langchain_community==0.0.29) (2.0.38)\n",
            "Requirement already satisfied: aiohttp<4.0.0,>=3.8.3 in /usr/local/lib/python3.11/dist-packages (from langchain_community==0.0.29) (3.11.13)\n",
            "Requirement already satisfied: dataclasses-json<0.7,>=0.5.7 in /usr/local/lib/python3.11/dist-packages (from langchain_community==0.0.29) (0.6.7)\n",
            "Requirement already satisfied: langchain-core<0.2.0,>=0.1.33 in /usr/local/lib/python3.11/dist-packages (from langchain_community==0.0.29) (0.1.53)\n",
            "Requirement already satisfied: langsmith<0.2.0,>=0.1.0 in /usr/local/lib/python3.11/dist-packages (from langchain_community==0.0.29) (0.1.147)\n",
            "Requirement already satisfied: numpy<2,>=1 in /usr/local/lib/python3.11/dist-packages (from langchain_community==0.0.29) (1.26.4)\n",
            "Requirement already satisfied: tenacity<9.0.0,>=8.1.0 in /usr/local/lib/python3.11/dist-packages (from langchain_community==0.0.29) (8.5.0)\n",
            "Requirement already satisfied: aiohappyeyeballs>=2.3.0 in /usr/local/lib/python3.11/dist-packages (from aiohttp<4.0.0,>=3.8.3->langchain_community==0.0.29) (2.4.6)\n",
            "Requirement already satisfied: aiosignal>=1.1.2 in /usr/local/lib/python3.11/dist-packages (from aiohttp<4.0.0,>=3.8.3->langchain_community==0.0.29) (1.3.2)\n",
            "Requirement already satisfied: attrs>=17.3.0 in /usr/local/lib/python3.11/dist-packages (from aiohttp<4.0.0,>=3.8.3->langchain_community==0.0.29) (25.1.0)\n",
            "Requirement already satisfied: frozenlist>=1.1.1 in /usr/local/lib/python3.11/dist-packages (from aiohttp<4.0.0,>=3.8.3->langchain_community==0.0.29) (1.5.0)\n",
            "Requirement already satisfied: multidict<7.0,>=4.5 in /usr/local/lib/python3.11/dist-packages (from aiohttp<4.0.0,>=3.8.3->langchain_community==0.0.29) (6.1.0)\n",
            "Requirement already satisfied: propcache>=0.2.0 in /usr/local/lib/python3.11/dist-packages (from aiohttp<4.0.0,>=3.8.3->langchain_community==0.0.29) (0.3.0)\n",
            "Requirement already satisfied: yarl<2.0,>=1.17.0 in /usr/local/lib/python3.11/dist-packages (from aiohttp<4.0.0,>=3.8.3->langchain_community==0.0.29) (1.18.3)\n",
            "Requirement already satisfied: soupsieve>1.2 in /usr/local/lib/python3.11/dist-packages (from beautifulsoup4<5.0.0,>=4.12.3->crewai_tools==0.1.6) (2.6)\n",
            "Requirement already satisfied: typing-extensions>=4.0.0 in /usr/local/lib/python3.11/dist-packages (from beautifulsoup4<5.0.0,>=4.12.3->crewai_tools==0.1.6) (4.12.2)\n",
            "Requirement already satisfied: build>=1.0.3 in /usr/local/lib/python3.11/dist-packages (from chromadb<0.5.0,>=0.4.22->crewai_tools==0.1.6) (1.2.2.post1)\n",
            "Requirement already satisfied: chroma-hnswlib==0.7.3 in /usr/local/lib/python3.11/dist-packages (from chromadb<0.5.0,>=0.4.22->crewai_tools==0.1.6) (0.7.3)\n",
            "Requirement already satisfied: fastapi>=0.95.2 in /usr/local/lib/python3.11/dist-packages (from chromadb<0.5.0,>=0.4.22->crewai_tools==0.1.6) (0.115.11)\n",
            "Requirement already satisfied: uvicorn>=0.18.3 in /usr/local/lib/python3.11/dist-packages (from uvicorn[standard]>=0.18.3->chromadb<0.5.0,>=0.4.22->crewai_tools==0.1.6) (0.34.0)\n",
            "Requirement already satisfied: posthog>=2.4.0 in /usr/local/lib/python3.11/dist-packages (from chromadb<0.5.0,>=0.4.22->crewai_tools==0.1.6) (3.19.0)\n",
            "Requirement already satisfied: pulsar-client>=3.1.0 in /usr/local/lib/python3.11/dist-packages (from chromadb<0.5.0,>=0.4.22->crewai_tools==0.1.6) (3.6.1)\n",
            "Requirement already satisfied: onnxruntime>=1.14.1 in /usr/local/lib/python3.11/dist-packages (from chromadb<0.5.0,>=0.4.22->crewai_tools==0.1.6) (1.21.0)\n",
            "Requirement already satisfied: opentelemetry-exporter-otlp-proto-grpc>=1.2.0 in /usr/local/lib/python3.11/dist-packages (from chromadb<0.5.0,>=0.4.22->crewai_tools==0.1.6) (1.30.0)\n",
            "Requirement already satisfied: opentelemetry-instrumentation-fastapi>=0.41b0 in /usr/local/lib/python3.11/dist-packages (from chromadb<0.5.0,>=0.4.22->crewai_tools==0.1.6) (0.51b0)\n",
            "Requirement already satisfied: tokenizers>=0.13.2 in /usr/local/lib/python3.11/dist-packages (from chromadb<0.5.0,>=0.4.22->crewai_tools==0.1.6) (0.21.0)\n",
            "Requirement already satisfied: pypika>=0.48.9 in /usr/local/lib/python3.11/dist-packages (from chromadb<0.5.0,>=0.4.22->crewai_tools==0.1.6) (0.48.9)\n",
            "Requirement already satisfied: tqdm>=4.65.0 in /usr/local/lib/python3.11/dist-packages (from chromadb<0.5.0,>=0.4.22->crewai_tools==0.1.6) (4.67.1)\n",
            "Requirement already satisfied: overrides>=7.3.1 in /usr/local/lib/python3.11/dist-packages (from chromadb<0.5.0,>=0.4.22->crewai_tools==0.1.6) (7.7.0)\n",
            "Requirement already satisfied: importlib-resources in /usr/local/lib/python3.11/dist-packages (from chromadb<0.5.0,>=0.4.22->crewai_tools==0.1.6) (6.5.2)\n",
            "Requirement already satisfied: grpcio>=1.58.0 in /usr/local/lib/python3.11/dist-packages (from chromadb<0.5.0,>=0.4.22->crewai_tools==0.1.6) (1.70.0)\n",
            "Requirement already satisfied: bcrypt>=4.0.1 in /usr/local/lib/python3.11/dist-packages (from chromadb<0.5.0,>=0.4.22->crewai_tools==0.1.6) (4.3.0)\n",
            "Requirement already satisfied: typer>=0.9.0 in /usr/local/lib/python3.11/dist-packages (from chromadb<0.5.0,>=0.4.22->crewai_tools==0.1.6) (0.9.4)\n",
            "Requirement already satisfied: kubernetes>=28.1.0 in /usr/local/lib/python3.11/dist-packages (from chromadb<0.5.0,>=0.4.22->crewai_tools==0.1.6) (32.0.1)\n",
            "Requirement already satisfied: mmh3>=4.0.1 in /usr/local/lib/python3.11/dist-packages (from chromadb<0.5.0,>=0.4.22->crewai_tools==0.1.6) (5.1.0)\n",
            "Requirement already satisfied: orjson>=3.9.12 in /usr/local/lib/python3.11/dist-packages (from chromadb<0.5.0,>=0.4.22->crewai_tools==0.1.6) (3.10.15)\n",
            "Requirement already satisfied: marshmallow<4.0.0,>=3.18.0 in /usr/local/lib/python3.11/dist-packages (from dataclasses-json<0.7,>=0.5.7->langchain_community==0.0.29) (3.26.1)\n",
            "Requirement already satisfied: typing-inspect<1,>=0.4.0 in /usr/local/lib/python3.11/dist-packages (from dataclasses-json<0.7,>=0.5.7->langchain_community==0.0.29) (0.9.0)\n",
            "Requirement already satisfied: alembic<2.0.0,>=1.13.1 in /usr/local/lib/python3.11/dist-packages (from embedchain<0.2.0,>=0.1.98->crewai==0.28.8) (1.15.1)\n",
            "Requirement already satisfied: clarifai<11.0.0,>=10.0.1 in /usr/local/lib/python3.11/dist-packages (from embedchain<0.2.0,>=0.1.98->crewai==0.28.8) (10.11.1)\n",
            "Requirement already satisfied: google-cloud-aiplatform<2.0.0,>=1.26.1 in /usr/local/lib/python3.11/dist-packages (from embedchain<0.2.0,>=0.1.98->crewai==0.28.8) (1.79.0)\n",
            "Requirement already satisfied: gptcache<0.2.0,>=0.1.43 in /usr/local/lib/python3.11/dist-packages (from embedchain<0.2.0,>=0.1.98->crewai==0.28.8) (0.1.44)\n",
            "Requirement already satisfied: langchain-cohere<0.2.0,>=0.1.4 in /usr/local/lib/python3.11/dist-packages (from embedchain<0.2.0,>=0.1.98->crewai==0.28.8) (0.1.5)\n",
            "Requirement already satisfied: langchain-openai<0.2.0,>=0.1.7 in /usr/local/lib/python3.11/dist-packages (from embedchain<0.2.0,>=0.1.98->crewai==0.28.8) (0.1.7)\n",
            "Requirement already satisfied: pypdf<5.0.0,>=4.0.1 in /usr/local/lib/python3.11/dist-packages (from embedchain<0.2.0,>=0.1.98->crewai==0.28.8) (4.3.1)\n",
            "Requirement already satisfied: pysbd<0.4.0,>=0.3.4 in /usr/local/lib/python3.11/dist-packages (from embedchain<0.2.0,>=0.1.98->crewai==0.28.8) (0.3.4)\n",
            "Requirement already satisfied: rich<14.0.0,>=13.7.0 in /usr/local/lib/python3.11/dist-packages (from embedchain<0.2.0,>=0.1.98->crewai==0.28.8) (13.9.4)\n",
            "Requirement already satisfied: schema<0.8.0,>=0.7.5 in /usr/local/lib/python3.11/dist-packages (from embedchain<0.2.0,>=0.1.98->crewai==0.28.8) (0.7.5)\n",
            "Requirement already satisfied: tiktoken<0.8.0,>=0.7.0 in /usr/local/lib/python3.11/dist-packages (from embedchain<0.2.0,>=0.1.98->crewai==0.28.8) (0.7.0)\n",
            "Requirement already satisfied: PyGithub<2.0.0,>=1.59.1 in /usr/local/lib/python3.11/dist-packages (from embedchain[github,youtube]<0.2.0,>=0.1.85->crewai_tools==0.1.6) (1.59.1)\n",
            "Requirement already satisfied: gitpython<4.0.0,>=3.1.38 in /usr/local/lib/python3.11/dist-packages (from embedchain[github,youtube]<0.2.0,>=0.1.85->crewai_tools==0.1.6) (3.1.44)\n",
            "Requirement already satisfied: youtube-transcript-api<0.7.0,>=0.6.1 in /usr/local/lib/python3.11/dist-packages (from embedchain[github,youtube]<0.2.0,>=0.1.85->crewai_tools==0.1.6) (0.6.3)\n",
            "Requirement already satisfied: yt_dlp<2024.0.0,>=2023.11.14 in /usr/local/lib/python3.11/dist-packages (from embedchain[github,youtube]<0.2.0,>=0.1.85->crewai_tools==0.1.6) (2023.12.30)\n",
            "Requirement already satisfied: docstring-parser<0.16,>=0.15 in /usr/local/lib/python3.11/dist-packages (from instructor<0.6.0,>=0.5.2->crewai==0.28.8) (0.15)\n",
            "Requirement already satisfied: deprecation in /usr/local/lib/python3.11/dist-packages (from lancedb<0.6.0,>=0.5.4->crewai_tools==0.1.6) (2.1.0)\n",
            "Requirement already satisfied: pylance==0.9.18 in /usr/local/lib/python3.11/dist-packages (from lancedb<0.6.0,>=0.5.4->crewai_tools==0.1.6) (0.9.18)\n",
            "Requirement already satisfied: ratelimiter~=1.0 in /usr/local/lib/python3.11/dist-packages (from lancedb<0.6.0,>=0.5.4->crewai_tools==0.1.6) (1.2.0.post0)\n",
            "Requirement already satisfied: retry>=0.9.2 in /usr/local/lib/python3.11/dist-packages (from lancedb<0.6.0,>=0.5.4->crewai_tools==0.1.6) (0.9.2)\n",
            "Requirement already satisfied: semver>=3.0 in /usr/local/lib/python3.11/dist-packages (from lancedb<0.6.0,>=0.5.4->crewai_tools==0.1.6) (3.0.4)\n",
            "Requirement already satisfied: cachetools in /usr/local/lib/python3.11/dist-packages (from lancedb<0.6.0,>=0.5.4->crewai_tools==0.1.6) (5.5.2)\n",
            "Requirement already satisfied: pyarrow>=12 in /usr/local/lib/python3.11/dist-packages (from pylance==0.9.18->lancedb<0.6.0,>=0.5.4->crewai_tools==0.1.6) (18.1.0)\n",
            "Requirement already satisfied: jsonpatch<2.0,>=1.33 in /usr/local/lib/python3.11/dist-packages (from langchain<0.2.0,>=0.1.10->crewai==0.28.8) (1.33)\n",
            "Requirement already satisfied: langchain-text-splitters<0.1,>=0.0.1 in /usr/local/lib/python3.11/dist-packages (from langchain<0.2.0,>=0.1.10->crewai==0.28.8) (0.0.2)\n",
            "Requirement already satisfied: packaging<24.0,>=23.2 in /usr/local/lib/python3.11/dist-packages (from langchain-core<0.2.0,>=0.1.33->langchain_community==0.0.29) (23.2)\n",
            "Requirement already satisfied: httpx<1,>=0.23.0 in /usr/local/lib/python3.11/dist-packages (from langsmith<0.2.0,>=0.1.0->langchain_community==0.0.29) (0.28.1)\n",
            "Requirement already satisfied: requests-toolbelt<2.0.0,>=1.0.0 in /usr/local/lib/python3.11/dist-packages (from langsmith<0.2.0,>=0.1.0->langchain_community==0.0.29) (1.0.0)\n",
            "Requirement already satisfied: anyio<5,>=3.5.0 in /usr/local/lib/python3.11/dist-packages (from openai<2.0.0,>=1.13.3->crewai==0.28.8) (3.7.1)\n",
            "Requirement already satisfied: distro<2,>=1.7.0 in /usr/local/lib/python3.11/dist-packages (from openai<2.0.0,>=1.13.3->crewai==0.28.8) (1.9.0)\n",
            "Requirement already satisfied: jiter<1,>=0.4.0 in /usr/local/lib/python3.11/dist-packages (from openai<2.0.0,>=1.13.3->crewai==0.28.8) (0.8.2)\n",
            "Requirement already satisfied: sniffio in /usr/local/lib/python3.11/dist-packages (from openai<2.0.0,>=1.13.3->crewai==0.28.8) (1.3.1)\n",
            "Requirement already satisfied: deprecated>=1.2.6 in /usr/local/lib/python3.11/dist-packages (from opentelemetry-api<2.0.0,>=1.22.0->crewai==0.28.8) (1.2.18)\n",
            "Requirement already satisfied: importlib-metadata<=8.5.0,>=6.0 in /usr/local/lib/python3.11/dist-packages (from opentelemetry-api<2.0.0,>=1.22.0->crewai==0.28.8) (8.5.0)\n",
            "Requirement already satisfied: googleapis-common-protos~=1.52 in /usr/local/lib/python3.11/dist-packages (from opentelemetry-exporter-otlp-proto-http<2.0.0,>=1.22.0->crewai==0.28.8) (1.69.0)\n",
            "Requirement already satisfied: opentelemetry-exporter-otlp-proto-common==1.30.0 in /usr/local/lib/python3.11/dist-packages (from opentelemetry-exporter-otlp-proto-http<2.0.0,>=1.22.0->crewai==0.28.8) (1.30.0)\n",
            "Requirement already satisfied: opentelemetry-proto==1.30.0 in /usr/local/lib/python3.11/dist-packages (from opentelemetry-exporter-otlp-proto-http<2.0.0,>=1.22.0->crewai==0.28.8) (1.30.0)\n",
            "Requirement already satisfied: protobuf<6.0,>=5.0 in /usr/local/lib/python3.11/dist-packages (from opentelemetry-proto==1.30.0->opentelemetry-exporter-otlp-proto-http<2.0.0,>=1.22.0->crewai==0.28.8) (5.29.3)\n",
            "Requirement already satisfied: opentelemetry-semantic-conventions==0.51b0 in /usr/local/lib/python3.11/dist-packages (from opentelemetry-sdk<2.0.0,>=1.22.0->crewai==0.28.8) (0.51b0)\n",
            "Requirement already satisfied: annotated-types>=0.6.0 in /usr/local/lib/python3.11/dist-packages (from pydantic<3.0.0,>=2.4.2->crewai==0.28.8) (0.7.0)\n",
            "Requirement already satisfied: pydantic-core==2.27.2 in /usr/local/lib/python3.11/dist-packages (from pydantic<3.0.0,>=2.4.2->crewai==0.28.8) (2.27.2)\n",
            "Requirement already satisfied: nodeenv>=1.6.0 in /usr/local/lib/python3.11/dist-packages (from pyright<2.0.0,>=1.1.350->crewai_tools==0.1.6) (1.9.1)\n",
            "Requirement already satisfied: iniconfig in /usr/local/lib/python3.11/dist-packages (from pytest<9.0.0,>=8.0.0->crewai_tools==0.1.6) (2.0.0)\n",
            "Requirement already satisfied: pluggy<2,>=1.5 in /usr/local/lib/python3.11/dist-packages (from pytest<9.0.0,>=8.0.0->crewai_tools==0.1.6) (1.5.0)\n",
            "Requirement already satisfied: charset-normalizer<4,>=2 in /usr/local/lib/python3.11/dist-packages (from requests<3.0.0,>=2.31.0->crewai_tools==0.1.6) (3.4.1)\n",
            "Requirement already satisfied: idna<4,>=2.5 in /usr/local/lib/python3.11/dist-packages (from requests<3.0.0,>=2.31.0->crewai_tools==0.1.6) (3.10)\n",
            "Requirement already satisfied: urllib3<3,>=1.21.1 in /usr/local/lib/python3.11/dist-packages (from requests<3.0.0,>=2.31.0->crewai_tools==0.1.6) (2.3.0)\n",
            "Requirement already satisfied: certifi>=2017.4.17 in /usr/local/lib/python3.11/dist-packages (from requests<3.0.0,>=2.31.0->crewai_tools==0.1.6) (2025.1.31)\n",
            "Requirement already satisfied: trio~=0.17 in /usr/local/lib/python3.11/dist-packages (from selenium<5.0.0,>=4.18.1->crewai_tools==0.1.6) (0.29.0)\n",
            "Requirement already satisfied: trio-websocket~=0.9 in /usr/local/lib/python3.11/dist-packages (from selenium<5.0.0,>=4.18.1->crewai_tools==0.1.6) (0.12.2)\n",
            "Requirement already satisfied: websocket-client~=1.8 in /usr/local/lib/python3.11/dist-packages (from selenium<5.0.0,>=4.18.1->crewai_tools==0.1.6) (1.8.0)\n",
            "Requirement already satisfied: greenlet!=0.4.17 in /usr/local/lib/python3.11/dist-packages (from SQLAlchemy<3,>=1.4->langchain_community==0.0.29) (3.1.1)\n",
            "Requirement already satisfied: Mako in /usr/local/lib/python3.11/dist-packages (from alembic<2.0.0,>=1.13.1->embedchain<0.2.0,>=0.1.98->crewai==0.28.8) (1.3.9)\n",
            "Requirement already satisfied: pyproject_hooks in /usr/local/lib/python3.11/dist-packages (from build>=1.0.3->chromadb<0.5.0,>=0.4.22->crewai_tools==0.1.6) (1.2.0)\n",
            "Requirement already satisfied: clarifai-grpc>=10.11.2 in /usr/local/lib/python3.11/dist-packages (from clarifai<11.0.0,>=10.0.1->embedchain<0.2.0,>=0.1.98->crewai==0.28.8) (11.2.0)\n",
            "Requirement already satisfied: clarifai-protocol>=0.0.14 in /usr/local/lib/python3.11/dist-packages (from clarifai<11.0.0,>=10.0.1->embedchain<0.2.0,>=0.1.98->crewai==0.28.8) (0.0.14)\n",
            "Requirement already satisfied: tritonclient>=2.34.0 in /usr/local/lib/python3.11/dist-packages (from clarifai<11.0.0,>=10.0.1->embedchain<0.2.0,>=0.1.98->crewai==0.28.8) (2.55.0)\n",
            "Requirement already satisfied: Pillow>=9.5.0 in /usr/local/lib/python3.11/dist-packages (from clarifai<11.0.0,>=10.0.1->embedchain<0.2.0,>=0.1.98->crewai==0.28.8) (11.1.0)\n",
            "Requirement already satisfied: inquirerpy==0.3.4 in /usr/local/lib/python3.11/dist-packages (from clarifai<11.0.0,>=10.0.1->embedchain<0.2.0,>=0.1.98->crewai==0.28.8) (0.3.4)\n",
            "Requirement already satisfied: tabulate>=0.9.0 in /usr/local/lib/python3.11/dist-packages (from clarifai<11.0.0,>=10.0.1->embedchain<0.2.0,>=0.1.98->crewai==0.28.8) (0.9.0)\n",
            "Requirement already satisfied: fsspec==2024.6.1 in /usr/local/lib/python3.11/dist-packages (from clarifai<11.0.0,>=10.0.1->embedchain<0.2.0,>=0.1.98->crewai==0.28.8) (2024.6.1)\n",
            "Requirement already satisfied: contextlib2>=0.5.5 in /usr/local/lib/python3.11/dist-packages (from schema<0.8.0,>=0.7.5->embedchain<0.2.0,>=0.1.98->crewai==0.28.8) (21.6.0)\n",
            "Requirement already satisfied: pfzy<0.4.0,>=0.3.1 in /usr/local/lib/python3.11/dist-packages (from inquirerpy==0.3.4->clarifai<11.0.0,>=10.0.1->embedchain<0.2.0,>=0.1.98->crewai==0.28.8) (0.3.4)\n",
            "Requirement already satisfied: prompt-toolkit<4.0.0,>=3.0.1 in /usr/local/lib/python3.11/dist-packages (from inquirerpy==0.3.4->clarifai<11.0.0,>=10.0.1->embedchain<0.2.0,>=0.1.98->crewai==0.28.8) (3.0.50)\n",
            "Requirement already satisfied: wrapt<2,>=1.10 in /usr/local/lib/python3.11/dist-packages (from deprecated>=1.2.6->opentelemetry-api<2.0.0,>=1.22.0->crewai==0.28.8) (1.17.2)\n",
            "Requirement already satisfied: starlette<0.47.0,>=0.40.0 in /usr/local/lib/python3.11/dist-packages (from fastapi>=0.95.2->chromadb<0.5.0,>=0.4.22->crewai_tools==0.1.6) (0.46.1)\n",
            "Requirement already satisfied: gitdb<5,>=4.0.1 in /usr/local/lib/python3.11/dist-packages (from gitpython<4.0.0,>=3.1.38->embedchain[github,youtube]<0.2.0,>=0.1.85->crewai_tools==0.1.6) (4.0.12)\n",
            "Requirement already satisfied: google-api-core!=2.0.*,!=2.1.*,!=2.2.*,!=2.3.*,!=2.4.*,!=2.5.*,!=2.6.*,!=2.7.*,<3.0.0dev,>=1.34.1 in /usr/local/lib/python3.11/dist-packages (from google-api-core[grpc]!=2.0.*,!=2.1.*,!=2.2.*,!=2.3.*,!=2.4.*,!=2.5.*,!=2.6.*,!=2.7.*,<3.0.0dev,>=1.34.1->google-cloud-aiplatform<2.0.0,>=1.26.1->embedchain<0.2.0,>=0.1.98->crewai==0.28.8) (2.24.1)\n",
            "Requirement already satisfied: google-auth<3.0.0dev,>=2.14.1 in /usr/local/lib/python3.11/dist-packages (from google-cloud-aiplatform<2.0.0,>=1.26.1->embedchain<0.2.0,>=0.1.98->crewai==0.28.8) (2.38.0)\n",
            "Requirement already satisfied: proto-plus<2.0.0dev,>=1.22.3 in /usr/local/lib/python3.11/dist-packages (from google-cloud-aiplatform<2.0.0,>=1.26.1->embedchain<0.2.0,>=0.1.98->crewai==0.28.8) (1.26.0)\n",
            "Requirement already satisfied: google-cloud-storage<3.0.0dev,>=1.32.0 in /usr/local/lib/python3.11/dist-packages (from google-cloud-aiplatform<2.0.0,>=1.26.1->embedchain<0.2.0,>=0.1.98->crewai==0.28.8) (2.19.0)\n",
            "Requirement already satisfied: google-cloud-bigquery!=3.20.0,<4.0.0dev,>=1.15.0 in /usr/local/lib/python3.11/dist-packages (from google-cloud-aiplatform<2.0.0,>=1.26.1->embedchain<0.2.0,>=0.1.98->crewai==0.28.8) (3.29.0)\n",
            "Requirement already satisfied: google-cloud-resource-manager<3.0.0dev,>=1.3.3 in /usr/local/lib/python3.11/dist-packages (from google-cloud-aiplatform<2.0.0,>=1.26.1->embedchain<0.2.0,>=0.1.98->crewai==0.28.8) (1.14.1)\n",
            "Requirement already satisfied: shapely<3.0.0dev in /usr/local/lib/python3.11/dist-packages (from google-cloud-aiplatform<2.0.0,>=1.26.1->embedchain<0.2.0,>=0.1.98->crewai==0.28.8) (2.0.7)\n",
            "Requirement already satisfied: httpcore==1.* in /usr/local/lib/python3.11/dist-packages (from httpx<1,>=0.23.0->langsmith<0.2.0,>=0.1.0->langchain_community==0.0.29) (1.0.7)\n",
            "Requirement already satisfied: h11<0.15,>=0.13 in /usr/local/lib/python3.11/dist-packages (from httpcore==1.*->httpx<1,>=0.23.0->langsmith<0.2.0,>=0.1.0->langchain_community==0.0.29) (0.14.0)\n",
            "Requirement already satisfied: zipp>=3.20 in /usr/local/lib/python3.11/dist-packages (from importlib-metadata<=8.5.0,>=6.0->opentelemetry-api<2.0.0,>=1.22.0->crewai==0.28.8) (3.21.0)\n",
            "Requirement already satisfied: jsonpointer>=1.9 in /usr/local/lib/python3.11/dist-packages (from jsonpatch<2.0,>=1.33->langchain<0.2.0,>=0.1.10->crewai==0.28.8) (3.0.0)\n",
            "Requirement already satisfied: six>=1.9.0 in /usr/local/lib/python3.11/dist-packages (from kubernetes>=28.1.0->chromadb<0.5.0,>=0.4.22->crewai_tools==0.1.6) (1.17.0)\n",
            "Requirement already satisfied: python-dateutil>=2.5.3 in /usr/local/lib/python3.11/dist-packages (from kubernetes>=28.1.0->chromadb<0.5.0,>=0.4.22->crewai_tools==0.1.6) (2.8.2)\n",
            "Requirement already satisfied: requests-oauthlib in /usr/local/lib/python3.11/dist-packages (from kubernetes>=28.1.0->chromadb<0.5.0,>=0.4.22->crewai_tools==0.1.6) (2.0.0)\n",
            "Requirement already satisfied: oauthlib>=3.2.2 in /usr/local/lib/python3.11/dist-packages (from kubernetes>=28.1.0->chromadb<0.5.0,>=0.4.22->crewai_tools==0.1.6) (3.2.2)\n",
            "Requirement already satisfied: durationpy>=0.7 in /usr/local/lib/python3.11/dist-packages (from kubernetes>=28.1.0->chromadb<0.5.0,>=0.4.22->crewai_tools==0.1.6) (0.9)\n",
            "Requirement already satisfied: cohere<6.0,>=5.5 in /usr/local/lib/python3.11/dist-packages (from langchain-cohere<0.2.0,>=0.1.4->embedchain<0.2.0,>=0.1.98->crewai==0.28.8) (5.14.0)\n",
            "Requirement already satisfied: coloredlogs in /usr/local/lib/python3.11/dist-packages (from onnxruntime>=1.14.1->chromadb<0.5.0,>=0.4.22->crewai_tools==0.1.6) (15.0.1)\n",
            "Requirement already satisfied: flatbuffers in /usr/local/lib/python3.11/dist-packages (from onnxruntime>=1.14.1->chromadb<0.5.0,>=0.4.22->crewai_tools==0.1.6) (25.2.10)\n",
            "Requirement already satisfied: sympy in /usr/local/lib/python3.11/dist-packages (from onnxruntime>=1.14.1->chromadb<0.5.0,>=0.4.22->crewai_tools==0.1.6) (1.13.1)\n",
            "Requirement already satisfied: opentelemetry-instrumentation-asgi==0.51b0 in /usr/local/lib/python3.11/dist-packages (from opentelemetry-instrumentation-fastapi>=0.41b0->chromadb<0.5.0,>=0.4.22->crewai_tools==0.1.6) (0.51b0)\n",
            "Requirement already satisfied: opentelemetry-instrumentation==0.51b0 in /usr/local/lib/python3.11/dist-packages (from opentelemetry-instrumentation-fastapi>=0.41b0->chromadb<0.5.0,>=0.4.22->crewai_tools==0.1.6) (0.51b0)\n",
            "Requirement already satisfied: opentelemetry-util-http==0.51b0 in /usr/local/lib/python3.11/dist-packages (from opentelemetry-instrumentation-fastapi>=0.41b0->chromadb<0.5.0,>=0.4.22->crewai_tools==0.1.6) (0.51b0)\n",
            "Requirement already satisfied: asgiref~=3.0 in /usr/local/lib/python3.11/dist-packages (from opentelemetry-instrumentation-asgi==0.51b0->opentelemetry-instrumentation-fastapi>=0.41b0->chromadb<0.5.0,>=0.4.22->crewai_tools==0.1.6) (3.8.1)\n",
            "Requirement already satisfied: monotonic>=1.5 in /usr/local/lib/python3.11/dist-packages (from posthog>=2.4.0->chromadb<0.5.0,>=0.4.22->crewai_tools==0.1.6) (1.6)\n",
            "Requirement already satisfied: backoff>=1.10.0 in /usr/local/lib/python3.11/dist-packages (from posthog>=2.4.0->chromadb<0.5.0,>=0.4.22->crewai_tools==0.1.6) (2.2.1)\n",
            "Requirement already satisfied: pyjwt>=2.4.0 in /usr/local/lib/python3.11/dist-packages (from pyjwt[crypto]>=2.4.0->PyGithub<2.0.0,>=1.59.1->embedchain[github,youtube]<0.2.0,>=0.1.85->crewai_tools==0.1.6) (2.10.1)\n",
            "Requirement already satisfied: pynacl>=1.4.0 in /usr/local/lib/python3.11/dist-packages (from PyGithub<2.0.0,>=1.59.1->embedchain[github,youtube]<0.2.0,>=0.1.85->crewai_tools==0.1.6) (1.5.0)\n",
            "Requirement already satisfied: decorator>=3.4.2 in /usr/local/lib/python3.11/dist-packages (from retry>=0.9.2->lancedb<0.6.0,>=0.5.4->crewai_tools==0.1.6) (4.4.2)\n",
            "Requirement already satisfied: py<2.0.0,>=1.4.26 in /usr/local/lib/python3.11/dist-packages (from retry>=0.9.2->lancedb<0.6.0,>=0.5.4->crewai_tools==0.1.6) (1.11.0)\n",
            "Requirement already satisfied: markdown-it-py>=2.2.0 in /usr/local/lib/python3.11/dist-packages (from rich<14.0.0,>=13.7.0->embedchain<0.2.0,>=0.1.98->crewai==0.28.8) (3.0.0)\n",
            "Requirement already satisfied: pygments<3.0.0,>=2.13.0 in /usr/local/lib/python3.11/dist-packages (from rich<14.0.0,>=13.7.0->embedchain<0.2.0,>=0.1.98->crewai==0.28.8) (2.18.0)\n",
            "Requirement already satisfied: huggingface-hub<1.0,>=0.16.4 in /usr/local/lib/python3.11/dist-packages (from tokenizers>=0.13.2->chromadb<0.5.0,>=0.4.22->crewai_tools==0.1.6) (0.28.1)\n",
            "Requirement already satisfied: sortedcontainers in /usr/local/lib/python3.11/dist-packages (from trio~=0.17->selenium<5.0.0,>=4.18.1->crewai_tools==0.1.6) (2.4.0)\n",
            "Requirement already satisfied: outcome in /usr/local/lib/python3.11/dist-packages (from trio~=0.17->selenium<5.0.0,>=4.18.1->crewai_tools==0.1.6) (1.3.0.post0)\n",
            "Requirement already satisfied: wsproto>=0.14 in /usr/local/lib/python3.11/dist-packages (from trio-websocket~=0.9->selenium<5.0.0,>=4.18.1->crewai_tools==0.1.6) (1.2.0)\n",
            "Requirement already satisfied: mypy-extensions>=0.3.0 in /usr/local/lib/python3.11/dist-packages (from typing-inspect<1,>=0.4.0->dataclasses-json<0.7,>=0.5.7->langchain_community==0.0.29) (1.0.0)\n",
            "Requirement already satisfied: pysocks!=1.5.7,<2.0,>=1.5.6 in /usr/local/lib/python3.11/dist-packages (from urllib3[socks]<3,>=1.26->selenium<5.0.0,>=4.18.1->crewai_tools==0.1.6) (1.7.1)\n",
            "Requirement already satisfied: httptools>=0.6.3 in /usr/local/lib/python3.11/dist-packages (from uvicorn[standard]>=0.18.3->chromadb<0.5.0,>=0.4.22->crewai_tools==0.1.6) (0.6.4)\n",
            "Requirement already satisfied: uvloop!=0.15.0,!=0.15.1,>=0.14.0 in /usr/local/lib/python3.11/dist-packages (from uvicorn[standard]>=0.18.3->chromadb<0.5.0,>=0.4.22->crewai_tools==0.1.6) (0.21.0)\n",
            "Requirement already satisfied: watchfiles>=0.13 in /usr/local/lib/python3.11/dist-packages (from uvicorn[standard]>=0.18.3->chromadb<0.5.0,>=0.4.22->crewai_tools==0.1.6) (1.0.4)\n",
            "Requirement already satisfied: websockets>=10.4 in /usr/local/lib/python3.11/dist-packages (from uvicorn[standard]>=0.18.3->chromadb<0.5.0,>=0.4.22->crewai_tools==0.1.6) (14.2)\n",
            "Requirement already satisfied: defusedxml<0.8.0,>=0.7.1 in /usr/local/lib/python3.11/dist-packages (from youtube-transcript-api<0.7.0,>=0.6.1->embedchain[github,youtube]<0.2.0,>=0.1.85->crewai_tools==0.1.6) (0.7.1)\n",
            "Requirement already satisfied: mutagen in /usr/local/lib/python3.11/dist-packages (from yt_dlp<2024.0.0,>=2023.11.14->embedchain[github,youtube]<0.2.0,>=0.1.85->crewai_tools==0.1.6) (1.47.0)\n",
            "Requirement already satisfied: pycryptodomex in /usr/local/lib/python3.11/dist-packages (from yt_dlp<2024.0.0,>=2023.11.14->embedchain[github,youtube]<0.2.0,>=0.1.85->crewai_tools==0.1.6) (3.21.0)\n",
            "Requirement already satisfied: brotli in /usr/local/lib/python3.11/dist-packages (from yt_dlp<2024.0.0,>=2023.11.14->embedchain[github,youtube]<0.2.0,>=0.1.85->crewai_tools==0.1.6) (1.1.0)\n",
            "Requirement already satisfied: fastavro<2.0.0,>=1.9.4 in /usr/local/lib/python3.11/dist-packages (from cohere<6.0,>=5.5->langchain-cohere<0.2.0,>=0.1.4->embedchain<0.2.0,>=0.1.98->crewai==0.28.8) (1.10.0)\n",
            "Requirement already satisfied: httpx-sse==0.4.0 in /usr/local/lib/python3.11/dist-packages (from cohere<6.0,>=5.5->langchain-cohere<0.2.0,>=0.1.4->embedchain<0.2.0,>=0.1.98->crewai==0.28.8) (0.4.0)\n",
            "Requirement already satisfied: types-requests<3.0.0,>=2.0.0 in /usr/local/lib/python3.11/dist-packages (from cohere<6.0,>=5.5->langchain-cohere<0.2.0,>=0.1.4->embedchain<0.2.0,>=0.1.98->crewai==0.28.8) (2.32.0.20250306)\n",
            "Requirement already satisfied: smmap<6,>=3.0.1 in /usr/local/lib/python3.11/dist-packages (from gitdb<5,>=4.0.1->gitpython<4.0.0,>=3.1.38->embedchain[github,youtube]<0.2.0,>=0.1.85->crewai_tools==0.1.6) (5.0.2)\n",
            "Requirement already satisfied: grpcio-status<2.0.dev0,>=1.33.2 in /usr/local/lib/python3.11/dist-packages (from google-api-core[grpc]!=2.0.*,!=2.1.*,!=2.2.*,!=2.3.*,!=2.4.*,!=2.5.*,!=2.6.*,!=2.7.*,<3.0.0dev,>=1.34.1->google-cloud-aiplatform<2.0.0,>=1.26.1->embedchain<0.2.0,>=0.1.98->crewai==0.28.8) (1.62.3)\n",
            "Requirement already satisfied: pyasn1-modules>=0.2.1 in /usr/local/lib/python3.11/dist-packages (from google-auth<3.0.0dev,>=2.14.1->google-cloud-aiplatform<2.0.0,>=1.26.1->embedchain<0.2.0,>=0.1.98->crewai==0.28.8) (0.4.1)\n",
            "Requirement already satisfied: rsa<5,>=3.1.4 in /usr/local/lib/python3.11/dist-packages (from google-auth<3.0.0dev,>=2.14.1->google-cloud-aiplatform<2.0.0,>=1.26.1->embedchain<0.2.0,>=0.1.98->crewai==0.28.8) (4.9)\n",
            "Requirement already satisfied: google-cloud-core<3.0.0dev,>=2.4.1 in /usr/local/lib/python3.11/dist-packages (from google-cloud-bigquery!=3.20.0,<4.0.0dev,>=1.15.0->google-cloud-aiplatform<2.0.0,>=1.26.1->embedchain<0.2.0,>=0.1.98->crewai==0.28.8) (2.4.2)\n",
            "Requirement already satisfied: google-resumable-media<3.0dev,>=2.0.0 in /usr/local/lib/python3.11/dist-packages (from google-cloud-bigquery!=3.20.0,<4.0.0dev,>=1.15.0->google-cloud-aiplatform<2.0.0,>=1.26.1->embedchain<0.2.0,>=0.1.98->crewai==0.28.8) (2.7.2)\n",
            "Requirement already satisfied: grpc-google-iam-v1<1.0.0dev,>=0.14.0 in /usr/local/lib/python3.11/dist-packages (from google-cloud-resource-manager<3.0.0dev,>=1.3.3->google-cloud-aiplatform<2.0.0,>=1.26.1->embedchain<0.2.0,>=0.1.98->crewai==0.28.8) (0.14.1)\n",
            "Requirement already satisfied: google-crc32c<2.0dev,>=1.0 in /usr/local/lib/python3.11/dist-packages (from google-cloud-storage<3.0.0dev,>=1.32.0->google-cloud-aiplatform<2.0.0,>=1.26.1->embedchain<0.2.0,>=0.1.98->crewai==0.28.8) (1.6.0)\n",
            "Requirement already satisfied: filelock in /usr/local/lib/python3.11/dist-packages (from huggingface-hub<1.0,>=0.16.4->tokenizers>=0.13.2->chromadb<0.5.0,>=0.4.22->crewai_tools==0.1.6) (3.17.0)\n",
            "Requirement already satisfied: mdurl~=0.1 in /usr/local/lib/python3.11/dist-packages (from markdown-it-py>=2.2.0->rich<14.0.0,>=13.7.0->embedchain<0.2.0,>=0.1.98->crewai==0.28.8) (0.1.2)\n",
            "Requirement already satisfied: cryptography>=3.4.0 in /usr/local/lib/python3.11/dist-packages (from pyjwt[crypto]>=2.4.0->PyGithub<2.0.0,>=1.59.1->embedchain[github,youtube]<0.2.0,>=0.1.85->crewai_tools==0.1.6) (43.0.3)\n",
            "Requirement already satisfied: cffi>=1.4.1 in /usr/local/lib/python3.11/dist-packages (from pynacl>=1.4.0->PyGithub<2.0.0,>=1.59.1->embedchain[github,youtube]<0.2.0,>=0.1.85->crewai_tools==0.1.6) (1.17.1)\n",
            "Requirement already satisfied: python-rapidjson>=0.9.1 in /usr/local/lib/python3.11/dist-packages (from tritonclient>=2.34.0->clarifai<11.0.0,>=10.0.1->embedchain<0.2.0,>=0.1.98->crewai==0.28.8) (1.20)\n",
            "Requirement already satisfied: humanfriendly>=9.1 in /usr/local/lib/python3.11/dist-packages (from coloredlogs->onnxruntime>=1.14.1->chromadb<0.5.0,>=0.4.22->crewai_tools==0.1.6) (10.0)\n",
            "Requirement already satisfied: MarkupSafe>=0.9.2 in /usr/local/lib/python3.11/dist-packages (from Mako->alembic<2.0.0,>=1.13.1->embedchain<0.2.0,>=0.1.98->crewai==0.28.8) (3.0.2)\n",
            "Requirement already satisfied: mpmath<1.4,>=1.1.0 in /usr/local/lib/python3.11/dist-packages (from sympy->onnxruntime>=1.14.1->chromadb<0.5.0,>=0.4.22->crewai_tools==0.1.6) (1.3.0)\n",
            "Requirement already satisfied: pycparser in /usr/local/lib/python3.11/dist-packages (from cffi>=1.4.1->pynacl>=1.4.0->PyGithub<2.0.0,>=1.59.1->embedchain[github,youtube]<0.2.0,>=0.1.85->crewai_tools==0.1.6) (2.22)\n",
            "Requirement already satisfied: wcwidth in /usr/local/lib/python3.11/dist-packages (from prompt-toolkit<4.0.0,>=3.0.1->inquirerpy==0.3.4->clarifai<11.0.0,>=10.0.1->embedchain<0.2.0,>=0.1.98->crewai==0.28.8) (0.2.13)\n",
            "Requirement already satisfied: pyasn1<0.7.0,>=0.4.6 in /usr/local/lib/python3.11/dist-packages (from pyasn1-modules>=0.2.1->google-auth<3.0.0dev,>=2.14.1->google-cloud-aiplatform<2.0.0,>=1.26.1->embedchain<0.2.0,>=0.1.98->crewai==0.28.8) (0.6.1)\n"
          ]
        }
      ],
      "source": [
        "!pip install crewai==0.28.8 crewai_tools==0.1.6 langchain_community==0.0.29"
      ]
    },
    {
      "cell_type": "code",
      "source": [
        "# Warning control\n",
        "import warnings\n",
        "warnings.filterwarnings('ignore')"
      ],
      "metadata": {
        "id": "JFNdlCqwYixF"
      },
      "execution_count": null,
      "outputs": []
    },
    {
      "cell_type": "markdown",
      "source": [
        "Import from the crewAI libray"
      ],
      "metadata": {
        "id": "MZbo8fZNYswC"
      }
    },
    {
      "cell_type": "code",
      "source": [
        "from crewai import Agent, Task, Crew\n",
        "#!pip install --upgrade crewai #upgrade crewai in case LLM not recognized\n"
      ],
      "metadata": {
        "id": "FzYgcVrCYvYp",
        "colab": {
          "base_uri": "https://localhost:8080/"
        },
        "outputId": "2919f491-bfa5-4bf6-91d5-8790213eab23"
      },
      "execution_count": 1,
      "outputs": [
        {
          "output_type": "stream",
          "name": "stdout",
          "text": [
            "Requirement already satisfied: crewai in /usr/local/lib/python3.11/dist-packages (0.105.0)\n",
            "Requirement already satisfied: appdirs>=1.4.4 in /usr/local/lib/python3.11/dist-packages (from crewai) (1.4.4)\n",
            "Requirement already satisfied: auth0-python>=4.7.1 in /usr/local/lib/python3.11/dist-packages (from crewai) (4.8.1)\n",
            "Requirement already satisfied: blinker>=1.9.0 in /usr/local/lib/python3.11/dist-packages (from crewai) (1.9.0)\n",
            "Requirement already satisfied: chromadb>=0.5.23 in /usr/local/lib/python3.11/dist-packages (from crewai) (0.6.3)\n",
            "Requirement already satisfied: click>=8.1.7 in /usr/local/lib/python3.11/dist-packages (from crewai) (8.1.7)\n",
            "Requirement already satisfied: instructor>=1.3.3 in /usr/local/lib/python3.11/dist-packages (from crewai) (1.7.3)\n",
            "Requirement already satisfied: json-repair>=0.25.2 in /usr/local/lib/python3.11/dist-packages (from crewai) (0.39.1)\n",
            "Requirement already satisfied: json5>=0.10.0 in /usr/local/lib/python3.11/dist-packages (from crewai) (0.10.0)\n",
            "Requirement already satisfied: jsonref>=1.1.0 in /usr/local/lib/python3.11/dist-packages (from crewai) (1.1.0)\n",
            "Requirement already satisfied: litellm==1.60.2 in /usr/local/lib/python3.11/dist-packages (from crewai) (1.60.2)\n",
            "Requirement already satisfied: openai>=1.13.3 in /usr/local/lib/python3.11/dist-packages (from crewai) (1.61.1)\n",
            "Requirement already satisfied: openpyxl>=3.1.5 in /usr/local/lib/python3.11/dist-packages (from crewai) (3.1.5)\n",
            "Requirement already satisfied: opentelemetry-api>=1.22.0 in /usr/local/lib/python3.11/dist-packages (from crewai) (1.30.0)\n",
            "Requirement already satisfied: opentelemetry-exporter-otlp-proto-http>=1.22.0 in /usr/local/lib/python3.11/dist-packages (from crewai) (1.30.0)\n",
            "Requirement already satisfied: opentelemetry-sdk>=1.22.0 in /usr/local/lib/python3.11/dist-packages (from crewai) (1.30.0)\n",
            "Requirement already satisfied: pdfplumber>=0.11.4 in /usr/local/lib/python3.11/dist-packages (from crewai) (0.11.5)\n",
            "Requirement already satisfied: pydantic>=2.4.2 in /usr/local/lib/python3.11/dist-packages (from crewai) (2.10.6)\n",
            "Requirement already satisfied: python-dotenv>=1.0.0 in /usr/local/lib/python3.11/dist-packages (from crewai) (1.0.0)\n",
            "Requirement already satisfied: pyvis>=0.3.2 in /usr/local/lib/python3.11/dist-packages (from crewai) (0.3.2)\n",
            "Requirement already satisfied: regex>=2024.9.11 in /usr/local/lib/python3.11/dist-packages (from crewai) (2024.11.6)\n",
            "Requirement already satisfied: tomli-w>=1.1.0 in /usr/local/lib/python3.11/dist-packages (from crewai) (1.2.0)\n",
            "Requirement already satisfied: tomli>=2.0.2 in /usr/local/lib/python3.11/dist-packages (from crewai) (2.2.1)\n",
            "Requirement already satisfied: uv>=0.4.25 in /usr/local/lib/python3.11/dist-packages (from crewai) (0.6.5)\n",
            "Requirement already satisfied: aiohttp in /usr/local/lib/python3.11/dist-packages (from litellm==1.60.2->crewai) (3.11.13)\n",
            "Requirement already satisfied: httpx<0.28.0,>=0.23.0 in /usr/local/lib/python3.11/dist-packages (from litellm==1.60.2->crewai) (0.27.2)\n",
            "Requirement already satisfied: importlib-metadata>=6.8.0 in /usr/local/lib/python3.11/dist-packages (from litellm==1.60.2->crewai) (8.5.0)\n",
            "Requirement already satisfied: jinja2<4.0.0,>=3.1.2 in /usr/local/lib/python3.11/dist-packages (from litellm==1.60.2->crewai) (3.1.5)\n",
            "Requirement already satisfied: jsonschema<5.0.0,>=4.22.0 in /usr/local/lib/python3.11/dist-packages (from litellm==1.60.2->crewai) (4.23.0)\n",
            "Requirement already satisfied: tiktoken>=0.7.0 in /usr/local/lib/python3.11/dist-packages (from litellm==1.60.2->crewai) (0.7.0)\n",
            "Requirement already satisfied: tokenizers in /usr/local/lib/python3.11/dist-packages (from litellm==1.60.2->crewai) (0.21.0)\n",
            "Requirement already satisfied: cryptography>=43.0.1 in /usr/local/lib/python3.11/dist-packages (from auth0-python>=4.7.1->crewai) (43.0.3)\n",
            "Requirement already satisfied: pyjwt>=2.8.0 in /usr/local/lib/python3.11/dist-packages (from auth0-python>=4.7.1->crewai) (2.10.1)\n",
            "Requirement already satisfied: requests>=2.32.3 in /usr/local/lib/python3.11/dist-packages (from auth0-python>=4.7.1->crewai) (2.32.3)\n",
            "Requirement already satisfied: urllib3>=2.2.3 in /usr/local/lib/python3.11/dist-packages (from auth0-python>=4.7.1->crewai) (2.3.0)\n",
            "Requirement already satisfied: build>=1.0.3 in /usr/local/lib/python3.11/dist-packages (from chromadb>=0.5.23->crewai) (1.2.2.post1)\n",
            "Requirement already satisfied: chroma-hnswlib==0.7.6 in /usr/local/lib/python3.11/dist-packages (from chromadb>=0.5.23->crewai) (0.7.6)\n",
            "Requirement already satisfied: fastapi>=0.95.2 in /usr/local/lib/python3.11/dist-packages (from chromadb>=0.5.23->crewai) (0.115.11)\n",
            "Requirement already satisfied: uvicorn>=0.18.3 in /usr/local/lib/python3.11/dist-packages (from uvicorn[standard]>=0.18.3->chromadb>=0.5.23->crewai) (0.34.0)\n",
            "Requirement already satisfied: numpy>=1.22.5 in /usr/local/lib/python3.11/dist-packages (from chromadb>=0.5.23->crewai) (1.26.4)\n",
            "Requirement already satisfied: posthog>=2.4.0 in /usr/local/lib/python3.11/dist-packages (from chromadb>=0.5.23->crewai) (3.19.0)\n",
            "Requirement already satisfied: typing_extensions>=4.5.0 in /usr/local/lib/python3.11/dist-packages (from chromadb>=0.5.23->crewai) (4.12.2)\n",
            "Requirement already satisfied: onnxruntime>=1.14.1 in /usr/local/lib/python3.11/dist-packages (from chromadb>=0.5.23->crewai) (1.21.0)\n",
            "Requirement already satisfied: opentelemetry-exporter-otlp-proto-grpc>=1.2.0 in /usr/local/lib/python3.11/dist-packages (from chromadb>=0.5.23->crewai) (1.30.0)\n",
            "Requirement already satisfied: opentelemetry-instrumentation-fastapi>=0.41b0 in /usr/local/lib/python3.11/dist-packages (from chromadb>=0.5.23->crewai) (0.51b0)\n",
            "Requirement already satisfied: pypika>=0.48.9 in /usr/local/lib/python3.11/dist-packages (from chromadb>=0.5.23->crewai) (0.48.9)\n",
            "Requirement already satisfied: tqdm>=4.65.0 in /usr/local/lib/python3.11/dist-packages (from chromadb>=0.5.23->crewai) (4.67.1)\n",
            "Requirement already satisfied: overrides>=7.3.1 in /usr/local/lib/python3.11/dist-packages (from chromadb>=0.5.23->crewai) (7.7.0)\n",
            "Requirement already satisfied: importlib-resources in /usr/local/lib/python3.11/dist-packages (from chromadb>=0.5.23->crewai) (6.5.2)\n",
            "Requirement already satisfied: grpcio>=1.58.0 in /usr/local/lib/python3.11/dist-packages (from chromadb>=0.5.23->crewai) (1.70.0)\n",
            "Requirement already satisfied: bcrypt>=4.0.1 in /usr/local/lib/python3.11/dist-packages (from chromadb>=0.5.23->crewai) (4.3.0)\n",
            "Requirement already satisfied: typer>=0.9.0 in /usr/local/lib/python3.11/dist-packages (from chromadb>=0.5.23->crewai) (0.9.4)\n",
            "Requirement already satisfied: kubernetes>=28.1.0 in /usr/local/lib/python3.11/dist-packages (from chromadb>=0.5.23->crewai) (32.0.1)\n",
            "Requirement already satisfied: tenacity>=8.2.3 in /usr/local/lib/python3.11/dist-packages (from chromadb>=0.5.23->crewai) (9.0.0)\n",
            "Requirement already satisfied: PyYAML>=6.0.0 in /usr/local/lib/python3.11/dist-packages (from chromadb>=0.5.23->crewai) (6.0.2)\n",
            "Requirement already satisfied: mmh3>=4.0.1 in /usr/local/lib/python3.11/dist-packages (from chromadb>=0.5.23->crewai) (5.1.0)\n",
            "Requirement already satisfied: orjson>=3.9.12 in /usr/local/lib/python3.11/dist-packages (from chromadb>=0.5.23->crewai) (3.10.15)\n",
            "Requirement already satisfied: rich>=10.11.0 in /usr/local/lib/python3.11/dist-packages (from chromadb>=0.5.23->crewai) (13.9.4)\n",
            "Requirement already satisfied: docstring-parser<1.0,>=0.16 in /usr/local/lib/python3.11/dist-packages (from instructor>=1.3.3->crewai) (0.16)\n",
            "Requirement already satisfied: jiter<0.9,>=0.6.1 in /usr/local/lib/python3.11/dist-packages (from instructor>=1.3.3->crewai) (0.8.2)\n",
            "Requirement already satisfied: pydantic-core<3.0.0,>=2.18.0 in /usr/local/lib/python3.11/dist-packages (from instructor>=1.3.3->crewai) (2.27.2)\n",
            "Requirement already satisfied: anyio<5,>=3.5.0 in /usr/local/lib/python3.11/dist-packages (from openai>=1.13.3->crewai) (3.7.1)\n",
            "Requirement already satisfied: distro<2,>=1.7.0 in /usr/local/lib/python3.11/dist-packages (from openai>=1.13.3->crewai) (1.9.0)\n",
            "Requirement already satisfied: sniffio in /usr/local/lib/python3.11/dist-packages (from openai>=1.13.3->crewai) (1.3.1)\n",
            "Requirement already satisfied: et-xmlfile in /usr/local/lib/python3.11/dist-packages (from openpyxl>=3.1.5->crewai) (2.0.0)\n",
            "Requirement already satisfied: deprecated>=1.2.6 in /usr/local/lib/python3.11/dist-packages (from opentelemetry-api>=1.22.0->crewai) (1.2.18)\n",
            "Requirement already satisfied: googleapis-common-protos~=1.52 in /usr/local/lib/python3.11/dist-packages (from opentelemetry-exporter-otlp-proto-http>=1.22.0->crewai) (1.69.0)\n",
            "Requirement already satisfied: opentelemetry-exporter-otlp-proto-common==1.30.0 in /usr/local/lib/python3.11/dist-packages (from opentelemetry-exporter-otlp-proto-http>=1.22.0->crewai) (1.30.0)\n",
            "Requirement already satisfied: opentelemetry-proto==1.30.0 in /usr/local/lib/python3.11/dist-packages (from opentelemetry-exporter-otlp-proto-http>=1.22.0->crewai) (1.30.0)\n",
            "Requirement already satisfied: protobuf<6.0,>=5.0 in /usr/local/lib/python3.11/dist-packages (from opentelemetry-proto==1.30.0->opentelemetry-exporter-otlp-proto-http>=1.22.0->crewai) (5.29.3)\n",
            "Requirement already satisfied: opentelemetry-semantic-conventions==0.51b0 in /usr/local/lib/python3.11/dist-packages (from opentelemetry-sdk>=1.22.0->crewai) (0.51b0)\n",
            "Requirement already satisfied: pdfminer.six==20231228 in /usr/local/lib/python3.11/dist-packages (from pdfplumber>=0.11.4->crewai) (20231228)\n",
            "Requirement already satisfied: Pillow>=9.1 in /usr/local/lib/python3.11/dist-packages (from pdfplumber>=0.11.4->crewai) (11.1.0)\n",
            "Requirement already satisfied: pypdfium2>=4.18.0 in /usr/local/lib/python3.11/dist-packages (from pdfplumber>=0.11.4->crewai) (4.30.1)\n",
            "Requirement already satisfied: charset-normalizer>=2.0.0 in /usr/local/lib/python3.11/dist-packages (from pdfminer.six==20231228->pdfplumber>=0.11.4->crewai) (3.4.1)\n",
            "Requirement already satisfied: annotated-types>=0.6.0 in /usr/local/lib/python3.11/dist-packages (from pydantic>=2.4.2->crewai) (0.7.0)\n",
            "Requirement already satisfied: ipython>=5.3.0 in /usr/local/lib/python3.11/dist-packages (from pyvis>=0.3.2->crewai) (7.34.0)\n",
            "Requirement already satisfied: jsonpickle>=1.4.1 in /usr/local/lib/python3.11/dist-packages (from pyvis>=0.3.2->crewai) (4.0.2)\n",
            "Requirement already satisfied: networkx>=1.11 in /usr/local/lib/python3.11/dist-packages (from pyvis>=0.3.2->crewai) (3.4.2)\n",
            "Requirement already satisfied: aiohappyeyeballs>=2.3.0 in /usr/local/lib/python3.11/dist-packages (from aiohttp->litellm==1.60.2->crewai) (2.4.6)\n",
            "Requirement already satisfied: aiosignal>=1.1.2 in /usr/local/lib/python3.11/dist-packages (from aiohttp->litellm==1.60.2->crewai) (1.3.2)\n",
            "Requirement already satisfied: attrs>=17.3.0 in /usr/local/lib/python3.11/dist-packages (from aiohttp->litellm==1.60.2->crewai) (25.1.0)\n",
            "Requirement already satisfied: frozenlist>=1.1.1 in /usr/local/lib/python3.11/dist-packages (from aiohttp->litellm==1.60.2->crewai) (1.5.0)\n",
            "Requirement already satisfied: multidict<7.0,>=4.5 in /usr/local/lib/python3.11/dist-packages (from aiohttp->litellm==1.60.2->crewai) (6.1.0)\n",
            "Requirement already satisfied: propcache>=0.2.0 in /usr/local/lib/python3.11/dist-packages (from aiohttp->litellm==1.60.2->crewai) (0.3.0)\n",
            "Requirement already satisfied: yarl<2.0,>=1.17.0 in /usr/local/lib/python3.11/dist-packages (from aiohttp->litellm==1.60.2->crewai) (1.18.3)\n",
            "Requirement already satisfied: idna>=2.8 in /usr/local/lib/python3.11/dist-packages (from anyio<5,>=3.5.0->openai>=1.13.3->crewai) (3.10)\n",
            "Requirement already satisfied: packaging>=19.1 in /usr/local/lib/python3.11/dist-packages (from build>=1.0.3->chromadb>=0.5.23->crewai) (23.2)\n",
            "Requirement already satisfied: pyproject_hooks in /usr/local/lib/python3.11/dist-packages (from build>=1.0.3->chromadb>=0.5.23->crewai) (1.2.0)\n",
            "Requirement already satisfied: cffi>=1.12 in /usr/local/lib/python3.11/dist-packages (from cryptography>=43.0.1->auth0-python>=4.7.1->crewai) (1.17.1)\n",
            "Requirement already satisfied: wrapt<2,>=1.10 in /usr/local/lib/python3.11/dist-packages (from deprecated>=1.2.6->opentelemetry-api>=1.22.0->crewai) (1.17.2)\n",
            "Requirement already satisfied: starlette<0.47.0,>=0.40.0 in /usr/local/lib/python3.11/dist-packages (from fastapi>=0.95.2->chromadb>=0.5.23->crewai) (0.46.1)\n",
            "Requirement already satisfied: certifi in /usr/local/lib/python3.11/dist-packages (from httpx<0.28.0,>=0.23.0->litellm==1.60.2->crewai) (2025.1.31)\n",
            "Requirement already satisfied: httpcore==1.* in /usr/local/lib/python3.11/dist-packages (from httpx<0.28.0,>=0.23.0->litellm==1.60.2->crewai) (1.0.7)\n",
            "Requirement already satisfied: h11<0.15,>=0.13 in /usr/local/lib/python3.11/dist-packages (from httpcore==1.*->httpx<0.28.0,>=0.23.0->litellm==1.60.2->crewai) (0.14.0)\n",
            "Requirement already satisfied: zipp>=3.20 in /usr/local/lib/python3.11/dist-packages (from importlib-metadata>=6.8.0->litellm==1.60.2->crewai) (3.21.0)\n",
            "Requirement already satisfied: setuptools>=18.5 in /usr/local/lib/python3.11/dist-packages (from ipython>=5.3.0->pyvis>=0.3.2->crewai) (75.1.0)\n",
            "Requirement already satisfied: jedi>=0.16 in /usr/local/lib/python3.11/dist-packages (from ipython>=5.3.0->pyvis>=0.3.2->crewai) (0.19.2)\n",
            "Requirement already satisfied: decorator in /usr/local/lib/python3.11/dist-packages (from ipython>=5.3.0->pyvis>=0.3.2->crewai) (4.4.2)\n",
            "Requirement already satisfied: pickleshare in /usr/local/lib/python3.11/dist-packages (from ipython>=5.3.0->pyvis>=0.3.2->crewai) (0.7.5)\n",
            "Requirement already satisfied: traitlets>=4.2 in /usr/local/lib/python3.11/dist-packages (from ipython>=5.3.0->pyvis>=0.3.2->crewai) (5.7.1)\n",
            "Requirement already satisfied: prompt-toolkit!=3.0.0,!=3.0.1,<3.1.0,>=2.0.0 in /usr/local/lib/python3.11/dist-packages (from ipython>=5.3.0->pyvis>=0.3.2->crewai) (3.0.50)\n",
            "Requirement already satisfied: pygments in /usr/local/lib/python3.11/dist-packages (from ipython>=5.3.0->pyvis>=0.3.2->crewai) (2.18.0)\n",
            "Requirement already satisfied: backcall in /usr/local/lib/python3.11/dist-packages (from ipython>=5.3.0->pyvis>=0.3.2->crewai) (0.2.0)\n",
            "Requirement already satisfied: matplotlib-inline in /usr/local/lib/python3.11/dist-packages (from ipython>=5.3.0->pyvis>=0.3.2->crewai) (0.1.7)\n",
            "Requirement already satisfied: pexpect>4.3 in /usr/local/lib/python3.11/dist-packages (from ipython>=5.3.0->pyvis>=0.3.2->crewai) (4.9.0)\n",
            "Requirement already satisfied: MarkupSafe>=2.0 in /usr/local/lib/python3.11/dist-packages (from jinja2<4.0.0,>=3.1.2->litellm==1.60.2->crewai) (3.0.2)\n",
            "Requirement already satisfied: jsonschema-specifications>=2023.03.6 in /usr/local/lib/python3.11/dist-packages (from jsonschema<5.0.0,>=4.22.0->litellm==1.60.2->crewai) (2024.10.1)\n",
            "Requirement already satisfied: referencing>=0.28.4 in /usr/local/lib/python3.11/dist-packages (from jsonschema<5.0.0,>=4.22.0->litellm==1.60.2->crewai) (0.36.2)\n",
            "Requirement already satisfied: rpds-py>=0.7.1 in /usr/local/lib/python3.11/dist-packages (from jsonschema<5.0.0,>=4.22.0->litellm==1.60.2->crewai) (0.23.1)\n",
            "Requirement already satisfied: six>=1.9.0 in /usr/local/lib/python3.11/dist-packages (from kubernetes>=28.1.0->chromadb>=0.5.23->crewai) (1.17.0)\n",
            "Requirement already satisfied: python-dateutil>=2.5.3 in /usr/local/lib/python3.11/dist-packages (from kubernetes>=28.1.0->chromadb>=0.5.23->crewai) (2.8.2)\n",
            "Requirement already satisfied: google-auth>=1.0.1 in /usr/local/lib/python3.11/dist-packages (from kubernetes>=28.1.0->chromadb>=0.5.23->crewai) (2.38.0)\n",
            "Requirement already satisfied: websocket-client!=0.40.0,!=0.41.*,!=0.42.*,>=0.32.0 in /usr/local/lib/python3.11/dist-packages (from kubernetes>=28.1.0->chromadb>=0.5.23->crewai) (1.8.0)\n",
            "Requirement already satisfied: requests-oauthlib in /usr/local/lib/python3.11/dist-packages (from kubernetes>=28.1.0->chromadb>=0.5.23->crewai) (2.0.0)\n",
            "Requirement already satisfied: oauthlib>=3.2.2 in /usr/local/lib/python3.11/dist-packages (from kubernetes>=28.1.0->chromadb>=0.5.23->crewai) (3.2.2)\n",
            "Requirement already satisfied: durationpy>=0.7 in /usr/local/lib/python3.11/dist-packages (from kubernetes>=28.1.0->chromadb>=0.5.23->crewai) (0.9)\n",
            "Requirement already satisfied: coloredlogs in /usr/local/lib/python3.11/dist-packages (from onnxruntime>=1.14.1->chromadb>=0.5.23->crewai) (15.0.1)\n",
            "Requirement already satisfied: flatbuffers in /usr/local/lib/python3.11/dist-packages (from onnxruntime>=1.14.1->chromadb>=0.5.23->crewai) (25.2.10)\n",
            "Requirement already satisfied: sympy in /usr/local/lib/python3.11/dist-packages (from onnxruntime>=1.14.1->chromadb>=0.5.23->crewai) (1.13.1)\n",
            "Requirement already satisfied: opentelemetry-instrumentation-asgi==0.51b0 in /usr/local/lib/python3.11/dist-packages (from opentelemetry-instrumentation-fastapi>=0.41b0->chromadb>=0.5.23->crewai) (0.51b0)\n",
            "Requirement already satisfied: opentelemetry-instrumentation==0.51b0 in /usr/local/lib/python3.11/dist-packages (from opentelemetry-instrumentation-fastapi>=0.41b0->chromadb>=0.5.23->crewai) (0.51b0)\n",
            "Requirement already satisfied: opentelemetry-util-http==0.51b0 in /usr/local/lib/python3.11/dist-packages (from opentelemetry-instrumentation-fastapi>=0.41b0->chromadb>=0.5.23->crewai) (0.51b0)\n",
            "Requirement already satisfied: asgiref~=3.0 in /usr/local/lib/python3.11/dist-packages (from opentelemetry-instrumentation-asgi==0.51b0->opentelemetry-instrumentation-fastapi>=0.41b0->chromadb>=0.5.23->crewai) (3.8.1)\n",
            "Requirement already satisfied: monotonic>=1.5 in /usr/local/lib/python3.11/dist-packages (from posthog>=2.4.0->chromadb>=0.5.23->crewai) (1.6)\n",
            "Requirement already satisfied: backoff>=1.10.0 in /usr/local/lib/python3.11/dist-packages (from posthog>=2.4.0->chromadb>=0.5.23->crewai) (2.2.1)\n",
            "Requirement already satisfied: markdown-it-py>=2.2.0 in /usr/local/lib/python3.11/dist-packages (from rich>=10.11.0->chromadb>=0.5.23->crewai) (3.0.0)\n",
            "Requirement already satisfied: huggingface-hub<1.0,>=0.16.4 in /usr/local/lib/python3.11/dist-packages (from tokenizers->litellm==1.60.2->crewai) (0.28.1)\n",
            "Requirement already satisfied: httptools>=0.6.3 in /usr/local/lib/python3.11/dist-packages (from uvicorn[standard]>=0.18.3->chromadb>=0.5.23->crewai) (0.6.4)\n",
            "Requirement already satisfied: uvloop!=0.15.0,!=0.15.1,>=0.14.0 in /usr/local/lib/python3.11/dist-packages (from uvicorn[standard]>=0.18.3->chromadb>=0.5.23->crewai) (0.21.0)\n",
            "Requirement already satisfied: watchfiles>=0.13 in /usr/local/lib/python3.11/dist-packages (from uvicorn[standard]>=0.18.3->chromadb>=0.5.23->crewai) (1.0.4)\n",
            "Requirement already satisfied: websockets>=10.4 in /usr/local/lib/python3.11/dist-packages (from uvicorn[standard]>=0.18.3->chromadb>=0.5.23->crewai) (14.2)\n",
            "Requirement already satisfied: pycparser in /usr/local/lib/python3.11/dist-packages (from cffi>=1.12->cryptography>=43.0.1->auth0-python>=4.7.1->crewai) (2.22)\n",
            "Requirement already satisfied: cachetools<6.0,>=2.0.0 in /usr/local/lib/python3.11/dist-packages (from google-auth>=1.0.1->kubernetes>=28.1.0->chromadb>=0.5.23->crewai) (5.5.2)\n",
            "Requirement already satisfied: pyasn1-modules>=0.2.1 in /usr/local/lib/python3.11/dist-packages (from google-auth>=1.0.1->kubernetes>=28.1.0->chromadb>=0.5.23->crewai) (0.4.1)\n",
            "Requirement already satisfied: rsa<5,>=3.1.4 in /usr/local/lib/python3.11/dist-packages (from google-auth>=1.0.1->kubernetes>=28.1.0->chromadb>=0.5.23->crewai) (4.9)\n",
            "Requirement already satisfied: filelock in /usr/local/lib/python3.11/dist-packages (from huggingface-hub<1.0,>=0.16.4->tokenizers->litellm==1.60.2->crewai) (3.17.0)\n",
            "Requirement already satisfied: fsspec>=2023.5.0 in /usr/local/lib/python3.11/dist-packages (from huggingface-hub<1.0,>=0.16.4->tokenizers->litellm==1.60.2->crewai) (2024.6.1)\n",
            "Requirement already satisfied: parso<0.9.0,>=0.8.4 in /usr/local/lib/python3.11/dist-packages (from jedi>=0.16->ipython>=5.3.0->pyvis>=0.3.2->crewai) (0.8.4)\n",
            "Requirement already satisfied: mdurl~=0.1 in /usr/local/lib/python3.11/dist-packages (from markdown-it-py>=2.2.0->rich>=10.11.0->chromadb>=0.5.23->crewai) (0.1.2)\n",
            "Requirement already satisfied: ptyprocess>=0.5 in /usr/local/lib/python3.11/dist-packages (from pexpect>4.3->ipython>=5.3.0->pyvis>=0.3.2->crewai) (0.7.0)\n",
            "Requirement already satisfied: wcwidth in /usr/local/lib/python3.11/dist-packages (from prompt-toolkit!=3.0.0,!=3.0.1,<3.1.0,>=2.0.0->ipython>=5.3.0->pyvis>=0.3.2->crewai) (0.2.13)\n",
            "Requirement already satisfied: humanfriendly>=9.1 in /usr/local/lib/python3.11/dist-packages (from coloredlogs->onnxruntime>=1.14.1->chromadb>=0.5.23->crewai) (10.0)\n",
            "Requirement already satisfied: mpmath<1.4,>=1.1.0 in /usr/local/lib/python3.11/dist-packages (from sympy->onnxruntime>=1.14.1->chromadb>=0.5.23->crewai) (1.3.0)\n",
            "Requirement already satisfied: pyasn1<0.7.0,>=0.4.6 in /usr/local/lib/python3.11/dist-packages (from pyasn1-modules>=0.2.1->google-auth>=1.0.1->kubernetes>=28.1.0->chromadb>=0.5.23->crewai) (0.6.1)\n"
          ]
        }
      ]
    },
    {
      "cell_type": "markdown",
      "source": [
        "OpenAI's gpt-3.5-turbo LLM is used by agents.\n",
        "of course you can use others  LLM models.\n",
        "\n",
        "CrewAI recommands to set API key of the used LLM as environment variable in a **.env **file."
      ],
      "metadata": {
        "id": "giwOEwKEY2Eq"
      }
    },
    {
      "cell_type": "code",
      "source": [
        "from crewai import LLM\n",
        "\n",
        "llm = LLM(\n",
        "    model=\"openai/gpt-3.5-turbo\", # call model by provider/model_name\n",
        "    temperature=0.7,\n",
        "    base_url=\"https://api.openai.com/v1\",\n",
        "    api_key=\"your-api-key-here\"\n",
        ")"
      ],
      "metadata": {
        "id": "YwAWrjKHZdhx"
      },
      "execution_count": 2,
      "outputs": []
    },
    {
      "cell_type": "markdown",
      "source": [
        "# **Creating Agents**\n",
        "\n",
        "Define your Agents, and provide them a **role**, **goal** and **backstory**.\n",
        "It has been seen that LLMs perform better when they are role playing.\n",
        "\n",
        "**Agent: Planner**\n",
        "\n",
        " *Pro Tip:* When writing text in Python, there's a cool trick you can use to keep things clean and tidy!\n",
        "\n",
        "Instead of using triple quotes like this:\n",
        "\n",
        "    varname = \"\"\"line 1 of text\n",
        "               line 2 of text\n",
        "               \"\"\"\n",
        "\n",
        "You can use multiple strings side by side:\n",
        "\n",
        "    varname = \"line 1 of text\"\n",
        "            \"line 2 of text\"\n",
        "\n",
        "This method avoids extra spaces and unnecessary newlines, making it super handy when you're formatting text for LLM prompts or other precise outputs. Keep your code clean and your text sharp!"
      ],
      "metadata": {
        "id": "0xqhOExXZxw7"
      }
    },
    {
      "cell_type": "code",
      "source": [
        "planner = Agent(\n",
        "    role=\"Content Planner\",\n",
        "    goal=\"Plan engaging and factually accurate content on {topic}\",\n",
        "    backstory=\"You're working on planning a blog article \"\n",
        "              \"about the topic: {topic}.\"\n",
        "              \"You collect information that helps the \"\n",
        "              \"audience learn something \"\n",
        "              \"and make informed decisions. \"\n",
        "              \"Your work is the basis for \"\n",
        "              \"the Content Writer to write an article on this topic.\",\n",
        "    llm=llm,\n",
        "    allow_delegation=False,\n",
        "\tverbose=True\n",
        ")"
      ],
      "metadata": {
        "id": "a7EuKunzZ55p"
      },
      "execution_count": 3,
      "outputs": []
    },
    {
      "cell_type": "markdown",
      "source": [
        "As you see in this code we use Agent method to create an agent.\n",
        "An agent is defined by it role, goal and backstory.\n",
        "\n",
        "1.   *Role & Goal:* Defines the agent's identity and mission, ensuring the LLM understands its purpose.\n",
        "2.   *Backstory*: Provides context to improve the LLM's understanding of the task’s objectives.\n",
        "\n",
        "Typically the **prompt** sent to the LLM is implicitly defined through the agent's role, goal, and backstory.\n"
      ],
      "metadata": {
        "id": "do0w2NACcGTA"
      }
    },
    {
      "cell_type": "markdown",
      "source": [
        "**Agent: Writer**\n"
      ],
      "metadata": {
        "id": "ou_KyT5FdDHi"
      }
    },
    {
      "cell_type": "code",
      "source": [
        "writer = Agent(\n",
        "    role=\"Content Writer\",\n",
        "    goal=\"Write insightful and factually accurate \"\n",
        "         \"opinion piece about the topic: {topic}\",\n",
        "    backstory=\"You're working on a writing \"\n",
        "              \"a new opinion piece about the topic: {topic}. \"\n",
        "              \"You base your writing on the work of \"\n",
        "              \"the Content Planner, who provides an outline \"\n",
        "              \"and relevant context about the topic. \"\n",
        "              \"You follow the main objectives and \"\n",
        "              \"direction of the outline, \"\n",
        "              \"as provide by the Content Planner. \"\n",
        "              \"You also provide objective and impartial insights \"\n",
        "              \"and back them up with information \"\n",
        "              \"provide by the Content Planner. \"\n",
        "              \"You acknowledge in your opinion piece \"\n",
        "              \"when your statements are opinions \"\n",
        "              \"as opposed to objective statements.\",\n",
        "    allow_delegation=False,\n",
        "    verbose=True\n",
        ")"
      ],
      "metadata": {
        "id": "zAuTsjLrdNv4"
      },
      "execution_count": 4,
      "outputs": []
    },
    {
      "cell_type": "markdown",
      "source": [
        "**Agent: Editor**"
      ],
      "metadata": {
        "id": "_G6o4fxAddgj"
      }
    },
    {
      "cell_type": "code",
      "source": [
        "editor = Agent(\n",
        "    role=\"Editor\",\n",
        "    goal=\"Edit a given blog post to align with \"\n",
        "         \"the writing style of the organization. \",\n",
        "    backstory=\"You are an editor who receives a blog post \"\n",
        "              \"from the Content Writer. \"\n",
        "              \"Your goal is to review the blog post \"\n",
        "              \"to ensure that it follows journalistic best practices,\"\n",
        "              \"provides balanced viewpoints \"\n",
        "              \"when providing opinions or assertions, \"\n",
        "              \"and also avoids major controversial topics \"\n",
        "              \"or opinions when possible.\",\n",
        "    allow_delegation=False,\n",
        "    verbose=True\n",
        ")"
      ],
      "metadata": {
        "id": "i-OHiT3ede2_"
      },
      "execution_count": 5,
      "outputs": []
    },
    {
      "cell_type": "markdown",
      "source": [
        "#**Creating Tasks**\n",
        "In the CrewAI framework, a task is a defined unit of work assigned to an agent. It represents a specific objective or action that the agent must accomplish.\n",
        "\n",
        "*A task is an actionable objective — a clear instruction that tells the agent what to do. It's specific, goal-oriented, and part of the workflow.*\n",
        "![image.png](data:image/png;base64,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)"
      ],
      "metadata": {
        "id": "Slk5mmzrdzai"
      }
    },
    {
      "cell_type": "code",
      "source": [
        "plan = Task(\n",
        "    description=(\n",
        "        \"1. Prioritize the latest trends, key players, \"\n",
        "            \"and noteworthy news on {topic}.\\n\"\n",
        "        \"2. Identify the target audience, considering \"\n",
        "            \"their interests and pain points.\\n\"\n",
        "        \"3. Develop a detailed content outline including \"\n",
        "            \"an introduction, key points, and a call to action.\\n\"\n",
        "        \"4. Include SEO keywords and relevant data or sources.\"\n",
        "    ),\n",
        "    expected_output=\"A comprehensive content plan document \"\n",
        "        \"with an outline, audience analysis, \"\n",
        "        \"SEO keywords, and resources.\",\n",
        "    agent=planner,\n",
        ")\n",
        "\n",
        "write = Task(\n",
        "    description=(\n",
        "        \"1. Use the content plan to craft a compelling \"\n",
        "            \"blog post on {topic}.\\n\"\n",
        "        \"2. Incorporate SEO keywords naturally.\\n\"\n",
        "\t\t\"3. Sections/Subtitles are properly named \"\n",
        "            \"in an engaging manner.\\n\"\n",
        "        \"4. Ensure the post is structured with an \"\n",
        "            \"engaging introduction, insightful body, \"\n",
        "            \"and a summarizing conclusion.\\n\"\n",
        "        \"5. Proofread for grammatical errors and \"\n",
        "            \"alignment with the brand's voice.\\n\"\n",
        "    ),\n",
        "    expected_output=\"A well-written blog post \"\n",
        "        \"in markdown format, ready for publication, \"\n",
        "        \"each section should have 2 or 3 paragraphs.\",\n",
        "    agent=writer,\n",
        ")\n",
        "edit = Task(\n",
        "    description=(\"Proofread the given blog post for \"\n",
        "                 \"grammatical errors and \"\n",
        "                 \"alignment with the brand's voice.\"),\n",
        "    expected_output=\"A well-written blog post in markdown format, \"\n",
        "                    \"ready for publication, \"\n",
        "                    \"each section should have 2 or 3 paragraphs.\",\n",
        "    agent=editor\n",
        ")"
      ],
      "metadata": {
        "id": "xeaoZjnHe6W2"
      },
      "execution_count": 6,
      "outputs": []
    },
    {
      "cell_type": "markdown",
      "source": [
        "# **Creating the Crew**\n",
        "\n",
        "Create your crew of Agents. Pass the tasks to be performed by those agents.\n",
        "\n",
        "*A **Crew** is a group of agents that collaborate to achieve a common goal.*\n",
        "\n",
        "By default tasks are executed in sequentiall.\n"
      ],
      "metadata": {
        "id": "RQgDfdlgfOre"
      }
    },
    {
      "cell_type": "code",
      "source": [
        "crew = Crew(\n",
        "    agents=[planner, writer, editor],\n",
        "    tasks=[plan, write, edit],\n",
        "    verbose=True\n",
        ")"
      ],
      "metadata": {
        "id": "tFcu9aTnftiP"
      },
      "execution_count": 8,
      "outputs": []
    },
    {
      "cell_type": "markdown",
      "source": [
        "# **Running the Crew**\n",
        "TO run the created SMA, we use *kickoff* methof od the crew object.\n",
        "\n"
      ],
      "metadata": {
        "id": "2IAYcL3mguvu"
      }
    },
    {
      "cell_type": "code",
      "source": [
        "result = crew.kickoff(inputs={\"topic\": \"Artificial Intelligence\"})"
      ],
      "metadata": {
        "id": "MAv0m6f5iTTs"
      },
      "execution_count": null,
      "outputs": []
    },
    {
      "cell_type": "markdown",
      "source": [
        "As you see  the key \"topic\" is used by inputs.  It maps to the {topic} variable defined in your agent's role, goal, backstory, or tasks."
      ],
      "metadata": {
        "id": "thoykZO-iXXU"
      }
    }
  ]
}